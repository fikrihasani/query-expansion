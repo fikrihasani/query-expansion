{
 "cells": [
  {
   "source": [
    "import pandas as pd\n",
    "from nltk.corpus import stopwords\n",
    "from nltk.tokenize import word_tokenize\n",
    "from nltk.stem import PorterStemmer\n",
    "import string\n",
    "\n",
    "\n",
    "class Preprocess():\n",
    "    def __init__(self, *args, **kwargs):\n",
    "        super().__init__(*args, **kwargs)\n",
    "\n",
    "    def lowercasing(self, data):\n",
    "        # print(data.head())\n",
    "        x = pd.Series(data)\n",
    "        # print(x.head())\n",
    "        return x.str.lower()\n",
    "\n",
    "    def remove_punc(self, data):\n",
    "        x = pd.Series(data)\n",
    "        x = data.str.replace('[^\\w\\s]', '')\n",
    "        return x\n",
    "\n",
    "    def remove_stopwords(self, data):\n",
    "        temp = pd.Series(data).astype('str')\n",
    "        stop = stopwords.words('english')\n",
    "        temp1 = temp.str.split()\n",
    "        temp = temp1.apply(lambda x: ' '.join(\n",
    "            word for word in x if word not in (stop)))\n",
    "        return temp\n",
    "\n",
    "    def stemming(self, data):\n",
    "        stemmer = PorterStemmer()\n",
    "        temp = pd.Series(data).astype('str')\n",
    "        temp = temp.str.split()\n",
    "        temp = temp.apply(lambda x: ' '.join(stemmer.stem(word)\n",
    "                                             for word in x))\n",
    "        return (temp)\n",
    "\n",
    "    def start(self, data):\n",
    "        x = self.lowercasing(data)\n",
    "        x = self.remove_punc(x)\n",
    "        x = self.remove_stopwords(x)\n",
    "        x = self.stemming(x)\n",
    "        return x\n",
    "\n",
    "\n",
    "class Preprocess_query():\n",
    "    def __init__(self, *args, **kwargs):\n",
    "        super().__init__(*args, **kwargs)\n",
    "\n",
    "    def lowercasing(self, query):\n",
    "        return query.lower()\n",
    "\n",
    "    def remove_punc(self, query):\n",
    "        x = query.translate(str.maketrans(\"\", \"\", string.punctuation))\n",
    "        return x\n",
    "\n",
    "    def remove_stopwords(self, query):\n",
    "        stop = stopwords.words('english')\n",
    "        temp1 = query.split()\n",
    "        result = ' '.join(word for word in temp1 if word not in stop)\n",
    "        return result\n",
    "\n",
    "    def stemming(self, query):\n",
    "        stemmer = PorterStemmer()\n",
    "        temp = query.split()\n",
    "        result = ' '.join(stemmer.stem(word) for word in temp)\n",
    "        return result\n",
    "\n",
    "    def start(self, query):\n",
    "        x = self.lowercasing(query)\n",
    "        x = self.remove_punc(x)\n",
    "        x = self.remove_stopwords(x)\n",
    "        x = self.stemming(x)\n",
    "        return x\n",
    ""
   ],
   "cell_type": "code",
   "outputs": [],
   "metadata": {},
   "execution_count": 1
  },
  {
   "source": [
    "from preprocess_data import Preprocess, Preprocess_query\n",
    "import pandas as pd\n",
    "from rank_bm25 import BM25Plus\n",
    "import heapq\n",
    "import itertools\n",
    "import pandas as pd\n",
    "import time\n",
    "import numpy as np\n",
    "import multiprocessing\n",
    "\n",
    "global top_n_doc\n",
    "\n",
    "\n",
    "def jaccard_co(ti, tj):\n",
    "    base = r'^{}'\n",
    "    expr = '(?=.*{})'\n",
    "    exij = base.format(''.join(expr.format(w) for w in [ti, tj]))\n",
    "    exi = base.format(expr.format(ti))\n",
    "    exj = base.format(expr.format(tj))\n",
    "    dij = top_n_doc.str.contains(exij, regex=True).sum()\n",
    "    di = top_n_doc.str.contains(exi, regex=True).sum()\n",
    "    dj = top_n_doc.str.contains(exj, regex=True).sum()\n",
    "    jc = dij / ((di + dj) - dij)\n",
    "    return jc\n",
    "\n",
    "\n",
    "    # x = str(tmp_df.iloc[2, ])\n",
    "    # q_terms.append(tmp_df.loc[0, 'Ti'])\n",
    "    # print(x+'-agawq')\n",
    ""
   ],
   "cell_type": "code",
   "outputs": [],
   "metadata": {},
   "execution_count": 2
  },
  {
   "source": [
    "r = Preprocess()\n",
    "rq = Preprocess_query()\n",
    "\n",
    "    # import files\n",
    "file_q = 'query_corpus.csv'\n",
    "file_all = 'document_corpus.csv'\n",
    "file_qrel = 'qrels.csv'\n",
    "q = pd.read_csv(file_q)\n",
    "al = pd.read_csv(file_all)\n",
    "qr = pd.read_csv(file_qrel)\n",
    "    # s_al = pd.Series(al)\n",
    "\n",
    "# copy to new array\n",
    "qs = q['Questions']\n",
    "a = al['Content']\n",
    "new_a = r.start(a)\n",
    "\n",
    "    # splitting array\n",
    "token_a = new_a.str.split()\n",
    "\n",
    "    # initialize bm25+ retrieval model\n",
    "bm25p = BM25Plus(token_a)\n",
    "\n",
    "    # get query from list of query\n",
    "inq = qs.loc[2]\n",
    "\n",
    "    # preprocess query\n",
    "tokenized_inq = rq.start(inq).split()\n",
    "\n",
    "    # get bm25+ score\n",
    "doc_scores = bm25p.get_scores(tokenized_inq)\n",
    "\n",
    "    # get top n documents\n",
    "n = 100\n",
    "top_idx = heapq.nlargest(n, range(len(doc_scores)), doc_scores.__getitem__)\n",
    "top_n_doc = a[top_idx]\n",
    "print(inq)\n",
    "print(tokenized_inq)"
   ],
   "cell_type": "code",
   "outputs": [
    {
     "output_type": "stream",
     "name": "stdout",
     "text": "What is information science?  Give definitions where possible. \n['inform', 'scienc', 'give', 'definit', 'possibl']\n"
    }
   ],
   "metadata": {},
   "execution_count": 3
  },
  {
   "source": [
    "top_n_doc.head()"
   ],
   "cell_type": "code",
   "outputs": [
    {
     "output_type": "execute_result",
     "data": {
      "text/plain": "1349       The different explanations of the nature of...\n545        Discusses the various explicit and implicit...\n617     This book sheds light on basic problems, princ...\n1347       A definition of informatics is given, its m...\n1237      Developing from the definitions of the conce...\nName: Content, dtype: object"
     },
     "metadata": {},
     "execution_count": 4
    }
   ],
   "metadata": {},
   "execution_count": 4
  },
  {
   "source": [
    "    # get top n docs and split\n",
    "top_n_doc = top_n_doc.str.lower()\n",
    "top_n_doc = r.remove_punc(top_n_doc)\n",
    "top_n_doc = r.remove_stopwords(top_n_doc)\n",
    "top_n_doc = r.stemming(top_n_doc)\n",
    "    # splitted = splitted.str.split()\n",
    "top_n_doc.head()"
   ],
   "cell_type": "code",
   "outputs": [
    {
     "output_type": "execute_result",
     "data": {
      "text/plain": "1349    differ explan natur inform problem face scienc...\n545     discuss variou explicit implicit definit infor...\n617     book shed light basic problem principl result ...\n1347    definit informat given method subject discuss ...\n1237    develop definit concept languag terminolog rep...\nName: Content, dtype: object"
     },
     "metadata": {},
     "execution_count": 5
    }
   ],
   "metadata": {},
   "execution_count": 5
  },
  {
   "source": [
    "    # built term pool\n",
    "term_pool = list(itertools.chain.from_iterable(top_n_doc.str.split()))\n",
    "    # print(splitted)\n",
    "term_pool = pd.DataFrame(term_pool, index=None, columns=['pool'])\n",
    "term_pool = term_pool.drop_duplicates()\n",
    "term_pool = term_pool[\"pool\"]\n",
    "term_pool[0:5]"
   ],
   "cell_type": "code",
   "outputs": [
    {
     "output_type": "execute_result",
     "data": {
      "text/plain": "0     differ\n1     explan\n2      natur\n3     inform\n4    problem\nName: pool, dtype: object"
     },
     "metadata": {},
     "execution_count": 6
    }
   ],
   "metadata": {},
   "execution_count": 6
  },
  {
   "source": [
    "    # split query\n",
    "q_terms = inq.lower()\n",
    "q_terms = rq.remove_punc(q_terms)\n",
    "q_terms = rq.remove_stopwords(q_terms)\n",
    "q_terms = rq.stemming(q_terms)\n",
    "q_terms = q_terms.split()\n",
    "\n",
    "tmp = list(itertools.product(term_pool, q_terms))\n",
    "df = pd.DataFrame(tmp, columns=['Ti', 'Tj'])\n",
    "df.head()"
   ],
   "cell_type": "code",
   "outputs": [
    {
     "output_type": "execute_result",
     "data": {
      "text/plain": "       Ti       Tj\n0  differ   inform\n1  differ   scienc\n2  differ     give\n3  differ  definit\n4  differ  possibl",
      "text/html": "<div>\n<style scoped>\n    .dataframe tbody tr th:only-of-type {\n        vertical-align: middle;\n    }\n\n    .dataframe tbody tr th {\n        vertical-align: top;\n    }\n\n    .dataframe thead th {\n        text-align: right;\n    }\n</style>\n<table border=\"1\" class=\"dataframe\">\n  <thead>\n    <tr style=\"text-align: right;\">\n      <th></th>\n      <th>Ti</th>\n      <th>Tj</th>\n    </tr>\n  </thead>\n  <tbody>\n    <tr>\n      <th>0</th>\n      <td>differ</td>\n      <td>inform</td>\n    </tr>\n    <tr>\n      <th>1</th>\n      <td>differ</td>\n      <td>scienc</td>\n    </tr>\n    <tr>\n      <th>2</th>\n      <td>differ</td>\n      <td>give</td>\n    </tr>\n    <tr>\n      <th>3</th>\n      <td>differ</td>\n      <td>definit</td>\n    </tr>\n    <tr>\n      <th>4</th>\n      <td>differ</td>\n      <td>possibl</td>\n    </tr>\n  </tbody>\n</table>\n</div>"
     },
     "metadata": {},
     "execution_count": 7
    }
   ],
   "metadata": {},
   "execution_count": 7
  },
  {
   "source": [
    "df['jaccard'] = \"\"\n",
    "df['jaccard'] = df.apply(\n",
    "        lambda row: jaccard_co(row['Ti'], row['Tj']), axis=1)\n",
    "    # df['jaccard'] = jaccard_co(df['Ti'], df['Tj'])"
   ],
   "cell_type": "code",
   "outputs": [],
   "metadata": {},
   "execution_count": 8
  },
  {
   "cell_type": "code",
   "execution_count": 31,
   "metadata": {},
   "outputs": [
    {
     "data": {
      "text/html": [
       "<div>\n",
       "<style scoped>\n",
       "    .dataframe tbody tr th:only-of-type {\n",
       "        vertical-align: middle;\n",
       "    }\n",
       "\n",
       "    .dataframe tbody tr th {\n",
       "        vertical-align: top;\n",
       "    }\n",
       "\n",
       "    .dataframe thead th {\n",
       "        text-align: right;\n",
       "    }\n",
       "</style>\n",
       "<table border=\"1\" class=\"dataframe\">\n",
       "  <thead>\n",
       "    <tr style=\"text-align: right;\">\n",
       "      <th></th>\n",
       "      <th>Ti</th>\n",
       "      <th>Tj</th>\n",
       "      <th>jaccard</th>\n",
       "    </tr>\n",
       "  </thead>\n",
       "  <tbody>\n",
       "    <tr>\n",
       "      <th>0</th>\n",
       "      <td>differ</td>\n",
       "      <td>inform</td>\n",
       "      <td>0.200000</td>\n",
       "    </tr>\n",
       "    <tr>\n",
       "      <th>1</th>\n",
       "      <td>differ</td>\n",
       "      <td>scienc</td>\n",
       "      <td>0.151515</td>\n",
       "    </tr>\n",
       "    <tr>\n",
       "      <th>2</th>\n",
       "      <td>differ</td>\n",
       "      <td>give</td>\n",
       "      <td>0.269231</td>\n",
       "    </tr>\n",
       "    <tr>\n",
       "      <th>3</th>\n",
       "      <td>differ</td>\n",
       "      <td>definit</td>\n",
       "      <td>0.181818</td>\n",
       "    </tr>\n",
       "    <tr>\n",
       "      <th>4</th>\n",
       "      <td>differ</td>\n",
       "      <td>possibl</td>\n",
       "      <td>0.180328</td>\n",
       "    </tr>\n",
       "  </tbody>\n",
       "</table>\n",
       "</div>"
      ],
      "text/plain": [
       "       Ti       Tj   jaccard\n",
       "0  differ   inform  0.200000\n",
       "1  differ   scienc  0.151515\n",
       "2  differ     give  0.269231\n",
       "3  differ  definit  0.181818\n",
       "4  differ  possibl  0.180328"
      ]
     },
     "execution_count": 31,
     "metadata": {},
     "output_type": "execute_result"
    }
   ],
   "source": [
    "df.head()"
   ]
  },
  {
   "cell_type": "code",
   "execution_count": 32,
   "metadata": {},
   "outputs": [
    {
     "data": {
      "text/html": [
       "<div>\n",
       "<style scoped>\n",
       "    .dataframe tbody tr th:only-of-type {\n",
       "        vertical-align: middle;\n",
       "    }\n",
       "\n",
       "    .dataframe tbody tr th {\n",
       "        vertical-align: top;\n",
       "    }\n",
       "\n",
       "    .dataframe thead th {\n",
       "        text-align: right;\n",
       "    }\n",
       "</style>\n",
       "<table border=\"1\" class=\"dataframe\">\n",
       "  <thead>\n",
       "    <tr style=\"text-align: right;\">\n",
       "      <th></th>\n",
       "      <th>Ti</th>\n",
       "      <th>Tj</th>\n",
       "      <th>jaccard</th>\n",
       "    </tr>\n",
       "  </thead>\n",
       "  <tbody>\n",
       "    <tr>\n",
       "      <th>0</th>\n",
       "      <td>finit</td>\n",
       "      <td>definit</td>\n",
       "      <td>1.000000</td>\n",
       "    </tr>\n",
       "    <tr>\n",
       "      <th>1</th>\n",
       "      <td>form</td>\n",
       "      <td>inform</td>\n",
       "      <td>0.869048</td>\n",
       "    </tr>\n",
       "    <tr>\n",
       "      <th>2</th>\n",
       "      <td>defin</td>\n",
       "      <td>definit</td>\n",
       "      <td>0.828571</td>\n",
       "    </tr>\n",
       "    <tr>\n",
       "      <th>3</th>\n",
       "      <td>c</td>\n",
       "      <td>inform</td>\n",
       "      <td>0.730000</td>\n",
       "    </tr>\n",
       "    <tr>\n",
       "      <th>4</th>\n",
       "      <td>n</td>\n",
       "      <td>inform</td>\n",
       "      <td>0.730000</td>\n",
       "    </tr>\n",
       "  </tbody>\n",
       "</table>\n",
       "</div>"
      ],
      "text/plain": [
       "      Ti       Tj   jaccard\n",
       "0  finit  definit  1.000000\n",
       "1   form   inform  0.869048\n",
       "2  defin  definit  0.828571\n",
       "3      c   inform  0.730000\n",
       "4      n   inform  0.730000"
      ]
     },
     "execution_count": 32,
     "metadata": {},
     "output_type": "execute_result"
    }
   ],
   "source": [
    "sorted_df = df[df.Ti != df.Tj]\n",
    "sorted_df = sorted_df.sort_values(by=['jaccard'],ascending=False).reset_index(drop=True)\n",
    "sorted_df.head()"
   ]
  },
  {
   "cell_type": "code",
   "execution_count": 33,
   "metadata": {},
   "outputs": [
    {
     "data": {
      "text/plain": [
       "['finit', 'form']"
      ]
     },
     "execution_count": 33,
     "metadata": {},
     "output_type": "execute_result"
    }
   ],
   "source": [
    "tmp_list = sorted_df.Ti.tolist()\n",
    "tmp_list[0:2]"
   ]
  },
  {
   "cell_type": "code",
   "execution_count": 42,
   "metadata": {},
   "outputs": [
    {
     "data": {
      "text/plain": [
       "['inform', 'scienc', 'give', 'definit', 'possibl', 'r', 'b', 'te', 'ie', 'al']"
      ]
     },
     "execution_count": 42,
     "metadata": {},
     "output_type": "execute_result"
    }
   ],
   "source": [
    "tmp_tokenized_inq  = tokenized_inq + tmp_list[5:10]\n",
    "tmp_tokenized_inq"
   ]
  },
  {
   "cell_type": "code",
   "execution_count": 43,
   "metadata": {},
   "outputs": [],
   "source": [
    "    # get bm25+ score\n",
    "new_doc_scores = bm25p.get_scores(tmp_tokenized_inq)\n",
    "\n",
    "    # get top n documents\n",
    "n = 10\n",
    "new_top_idx = heapq.nlargest(n, range(len(new_doc_scores)), doc_scores.__getitem__)\n",
    "new_top_n_doc = a[new_top_idx]"
   ]
  },
  {
   "cell_type": "code",
   "execution_count": 44,
   "metadata": {},
   "outputs": [
    {
     "data": {
      "text/plain": [
       "['inform', 'scienc', 'give', 'definit', 'possibl', 'r', 'b', 'te', 'ie', 'al']"
      ]
     },
     "execution_count": 44,
     "metadata": {},
     "output_type": "execute_result"
    }
   ],
   "source": [
    "tmp_tokenized_inq"
   ]
  },
  {
   "cell_type": "code",
   "execution_count": 45,
   "metadata": {},
   "outputs": [
    {
     "data": {
      "text/plain": [
       "1349       The different explanations of the nature of...\n",
       "545        Discusses the various explicit and implicit...\n",
       "617     This book sheds light on basic problems, princ...\n",
       "1347       A definition of informatics is given, its m...\n",
       "1237      Developing from the definitions of the conce...\n",
       "1298       The possibilities are discussed of a univer...\n",
       "938       The term 'informatics' was first advanced fo...\n",
       "101        It is pointed out that if information scien...\n",
       "1307    This book generalizes world and soviet experie...\n",
       "191       In a university, the mode of research is usu...\n",
       "Name: Content, dtype: object"
      ]
     },
     "execution_count": 45,
     "metadata": {},
     "output_type": "execute_result"
    }
   ],
   "source": [
    "new_top_n_doc"
   ]
  },
  {
   "cell_type": "code",
   "execution_count": 46,
   "metadata": {},
   "outputs": [
    {
     "data": {
      "text/plain": [
       "1349    differ explan natur inform problem face scienc...\n",
       "545     discuss variou explicit implicit definit infor...\n",
       "617     book shed light basic problem principl result ...\n",
       "1347    definit informat given method subject discuss ...\n",
       "1237    develop definit concept languag terminolog rep...\n",
       "1298    possibl discuss univers definit concept thesau...\n",
       "938     term informat first advanc formal director vin...\n",
       "101     point inform scienc consid true scienc similar...\n",
       "1307    book gener world soviet experi scienc give ori...\n",
       "191     univers mode research usual call pure basic re...\n",
       "Name: Content, dtype: object"
      ]
     },
     "execution_count": 46,
     "metadata": {},
     "output_type": "execute_result"
    }
   ],
   "source": [
    "top_n_doc[0:10]"
   ]
  },
  {
   "cell_type": "code",
   "execution_count": null,
   "metadata": {},
   "outputs": [],
   "source": []
  }
 ],
 "metadata": {
  "kernelspec": {
   "display_name": "Python 3",
   "language": "python",
   "name": "python3"
  },
  "language_info": {
   "codemirror_mode": {
    "name": "ipython",
    "version": 3
   },
   "file_extension": ".py",
   "mimetype": "text/x-python",
   "name": "python",
   "nbconvert_exporter": "python",
   "pygments_lexer": "ipython3",
   "version": "3.7.3"
  }
 },
 "nbformat": 4,
 "nbformat_minor": 2
}